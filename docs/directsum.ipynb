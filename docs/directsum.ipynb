{
 "cells": [
  {
   "cell_type": "code",
   "execution_count": 1,
   "id": "4e7032f8",
   "metadata": {},
   "outputs": [],
   "source": [
    "from sage.modules.fp_graded.steenrod.module import SteenrodFPModule as fpmod\n",
    "from extras import *"
   ]
  },
  {
   "cell_type": "code",
   "execution_count": 2,
   "id": "8319b40a",
   "metadata": {},
   "outputs": [
    {
     "name": "stdout",
     "output_type": "stream",
     "text": [
      "Help on function direct_sum in module extras:\n",
      "\n",
      "direct_sum(modules)\n",
      "      Input: modules - iterable of FPA_Modules\n",
      "      Returns: (i,p) - i: array of injections from {modules} into the direct sum.\n",
      "                       p: array of projections from the direct sum onto the factors.\n",
      "    \n",
      "    Example:\n",
      "        A = SteenrodAlgebra(2)\n",
      "        M = SteenrodFPModule(A, [0], [[Sq(1)], [Sq(2)]])\n",
      "    \n",
      "        injs, projs = direct_sum([M,M])\n",
      "    \n",
      "        p1 = projs[0] # p1 is the projection $M\\oplus M \\to M$ onto the first summand.\n",
      "        M_plus_M = p1.domain()\n",
      "        M_plus_M\n",
      "    \n",
      "        Finitely presented left module on 2 generators and 4 relations over mod 2 Steenrod algebra, milnor basis\n",
      "\n"
     ]
    }
   ],
   "source": [
    "help(direct_sum)"
   ]
  },
  {
   "cell_type": "code",
   "execution_count": 6,
   "id": "b43bd1bd",
   "metadata": {},
   "outputs": [
    {
     "data": {
      "text/plain": [
       "Finitely presented left module on 2 generators and 4 relations over mod 2 Steenrod algebra, milnor basis"
      ]
     },
     "execution_count": 6,
     "metadata": {},
     "output_type": "execute_result"
    }
   ],
   "source": [
    "A = SteenrodAlgebra(2)\n",
    "M = SteenrodFPModule(A, [0], [[Sq(1)], [Sq(2)]])\n",
    "\n",
    "injs, projs = direct_sum([M,M])\n",
    "\n",
    "p1 = projs[0] # p1 is the projection $M\\oplus M \\to M$ onto the first summand.\n",
    "M_plus_M = p1.domain()\n",
    "M_plus_M"
   ]
  }
 ],
 "metadata": {
  "kernelspec": {
   "display_name": "SageMath 9.6",
   "language": "sage",
   "name": "sagemath"
  },
  "language_info": {
   "codemirror_mode": {
    "name": "ipython",
    "version": 3
   },
   "file_extension": ".py",
   "mimetype": "text/x-python",
   "name": "python",
   "nbconvert_exporter": "python",
   "pygments_lexer": "ipython3",
   "version": "3.10.4"
  }
 },
 "nbformat": 4,
 "nbformat_minor": 5
}
