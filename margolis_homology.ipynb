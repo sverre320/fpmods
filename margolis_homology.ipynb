{
 "cells": [
  {
   "cell_type": "code",
   "execution_count": 1,
   "metadata": {},
   "outputs": [],
   "source": [
    "from sage.modules.fp_graded.steenrod.module import SteenrodFPModule as fpmod\n",
    "from fphomspaces import margolis_homology"
   ]
  },
  {
   "cell_type": "code",
   "execution_count": 2,
   "metadata": {},
   "outputs": [],
   "source": [
    "A = SteenrodAlgebra(2)\n",
    "M = fpmod(A, [0], [[Sq(2)]])\n",
    "# Sq(1) margolis homology in degree 7\n",
    "H, k, i = margolis_homology(M, 7, Sq(1))"
   ]
  },
  {
   "cell_type": "code",
   "execution_count": 3,
   "metadata": {},
   "outputs": [
    {
     "data": {
      "text/plain": [
       "Vector space quotient V/W of dimension 1 over Finite Field of size 2 where\n",
       "V: Vector space of degree 3 and dimension 2 over Finite Field of size 2\n",
       "Basis matrix:\n",
       "[1 0 1]\n",
       "[0 1 0]\n",
       "W: Vector space of degree 3 and dimension 1 over Finite Field of size 2\n",
       "Basis matrix:\n",
       "[0 1 0]"
      ]
     },
     "execution_count": 3,
     "metadata": {},
     "output_type": "execute_result"
    }
   ],
   "source": [
    "H"
   ]
  },
  {
   "cell_type": "code",
   "execution_count": 4,
   "metadata": {},
   "outputs": [
    {
     "data": {
      "text/plain": [
       "[(Sq(0,0,1)+Sq(4,1))*g[0]]"
      ]
     },
     "execution_count": 4,
     "metadata": {},
     "output_type": "execute_result"
    }
   ],
   "source": [
    "# Module elements of degree 7 giving a basis for the kernel of Sq(1): M[7] -> M[8]\n",
    "k"
   ]
  },
  {
   "cell_type": "code",
   "execution_count": 5,
   "metadata": {},
   "outputs": [
    {
     "data": {
      "text/plain": [
       "[Sq(1,2)*g[0]]"
      ]
     },
     "execution_count": 5,
     "metadata": {},
     "output_type": "execute_result"
    }
   ],
   "source": [
    "# Module elements of degree 7 giving a basis for the image of Sq(1): M[6] -> M[7]\n",
    "i"
   ]
  },
  {
   "cell_type": "code",
   "execution_count": 6,
   "metadata": {},
   "outputs": [
    {
     "data": {
      "text/plain": [
       "0"
      ]
     },
     "execution_count": 6,
     "metadata": {},
     "output_type": "execute_result"
    }
   ],
   "source": [
    "# Test that elements of k lies in the kernel of Sq(1):\n",
    "(Sq(1)*k[0]).normalize()"
   ]
  },
  {
   "cell_type": "code",
   "execution_count": 7,
   "metadata": {},
   "outputs": [
    {
     "name": "stdout",
     "output_type": "stream",
     "text": [
      "Sum of ranks:  0\n"
     ]
    }
   ],
   "source": [
    "# Free modules are invisible to margolis homology\n",
    "F = fpmod(A, [0])\n",
    "\n",
    "Q0 = Sq(1)\n",
    "Q1 = Sq(2)*Q0 + Q0*Sq(2)\n",
    "Q2 = Sq(4)*Q1 + Q1*Sq(4)\n",
    "\n",
    "tot = 0\n",
    "for n in range(32):\n",
    "    H, k, i = margolis_homology(F, n, Q2)\n",
    "    tot += H.dimension()\n",
    "print('Sum of ranks: ', tot)\n"
   ]
  },
  {
   "cell_type": "code",
   "execution_count": null,
   "metadata": {},
   "outputs": [],
   "source": []
  }
 ],
 "metadata": {
  "kernelspec": {
   "display_name": "SageMath 9.6",
   "language": "sage",
   "name": "sagemath"
  },
  "language_info": {
   "codemirror_mode": {
    "name": "ipython",
    "version": 3
   },
   "file_extension": ".py",
   "mimetype": "text/x-python",
   "name": "python",
   "nbconvert_exporter": "python",
   "pygments_lexer": "ipython3",
   "version": "3.10.4"
  }
 },
 "nbformat": 4,
 "nbformat_minor": 2
}
