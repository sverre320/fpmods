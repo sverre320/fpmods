{
 "cells": [
  {
   "cell_type": "markdown",
   "id": "80ecc32c",
   "metadata": {},
   "source": [
    "# Morphisms of A-modules\n",
    "The ``SteenrodFPModule`` contains functionality to handle modules over the Steenrod algebra, and maps between them.  For a given pair of modules, the set of $A$-linear homomorphisms $\\hom(M,N)$ is a graded $\\mathbb{F}_p$ vectorspace, and the "
   ]
  },
  {
   "cell_type": "code",
   "execution_count": 2,
   "id": "c97d9d63",
   "metadata": {},
   "outputs": [
    {
     "data": {
      "text/plain": [
       "[Module morphism:\n",
       "   From: Finitely presented left module on 1 generator and 2 relations over mod 2 Steenrod algebra, milnor basis\n",
       "   To:   Finitely presented left module on 1 generator and 1 relation over mod 2 Steenrod algebra, milnor basis\n",
       "   Defn: g[0] |--> Sq(0,1,0,1)*g[0],\n",
       " Module morphism:\n",
       "   From: Finitely presented left module on 1 generator and 2 relations over mod 2 Steenrod algebra, milnor basis\n",
       "   To:   Finitely presented left module on 1 generator and 1 relation over mod 2 Steenrod algebra, milnor basis\n",
       "   Defn: g[0] |--> (Sq(5,2,1)+Sq(8,1,1))*g[0]]"
      ]
     },
     "execution_count": 2,
     "metadata": {},
     "output_type": "execute_result"
    }
   ],
   "source": [
    "from sage.modules.fp_graded.steenrod.module import SteenrodFPModule as fpmod\n",
    "A = SteenrodAlgebra(2)\n",
    "M = fpmod(A, [0], [[Sq(1)], [Sq(2)]])\n",
    "N = fpmod(A, [0], [[Sq(2)]])\n",
    "\n",
    "# The set of graded A-linear homomorphisms M -> N\n",
    "hom = Hom(M,N)\n",
    "# Get a basis for the degree 18 homomorphisms\n",
    "hom.basis_elements(n=18)"
   ]
  },
  {
   "cell_type": "markdown",
   "id": "d04ae755",
   "metadata": {},
   "source": [
    "## The homspace as a graded vector spce.\n",
    "\n",
    "The ``extras`` package add methods to the homspace object of morphisms between ``SteenrodFPModules`` so that we can work with this homspace as a vectorspace, one degree at a time."
   ]
  },
  {
   "cell_type": "code",
   "execution_count": 3,
   "id": "98382016",
   "metadata": {},
   "outputs": [
    {
     "data": {
      "text/plain": [
       "Vector space of dimension 2 over Finite Field of size 2"
      ]
     },
     "execution_count": 3,
     "metadata": {},
     "output_type": "execute_result"
    }
   ],
   "source": [
    "from fphomspaces import *\n",
    "\n",
    "# The vectorspace of all degree 18 homomorphisms\n",
    "hom.vector_presentation(n=18)"
   ]
  },
  {
   "cell_type": "code",
   "execution_count": 4,
   "id": "aa817e6b",
   "metadata": {},
   "outputs": [
    {
     "name": "stdout",
     "output_type": "stream",
     "text": [
      "Module morphism:\n",
      "  From: Finitely presented left module on 1 generator and 2 relations over mod 2 Steenrod algebra, milnor basis\n",
      "  To:   Finitely presented left module on 1 generator and 1 relation over mod 2 Steenrod algebra, milnor basis\n",
      "  Defn: g[0] |--> Sq(0,1,0,1)*g[0]\n"
     ]
    }
   ],
   "source": [
    "# Given coordinates, we can find the homomorphism it represents\n",
    "coordinates = (1,0)\n",
    "f = hom.morphism_from_coordinates(coordinates, n=18)\n",
    "print(f)"
   ]
  },
  {
   "cell_type": "code",
   "execution_count": 5,
   "id": "26398cbe",
   "metadata": {},
   "outputs": [
    {
     "data": {
      "text/plain": [
       "(1, 0)"
      ]
     },
     "execution_count": 5,
     "metadata": {},
     "output_type": "execute_result"
    }
   ],
   "source": [
    "# Given a homomorphism, we can ask for its coordinates (with respect to the basis above)\n",
    "hom.morphism_to_coordinates(f)"
   ]
  },
  {
   "cell_type": "markdown",
   "id": "4f16f8df",
   "metadata": {},
   "source": [
    "## Maps of homspaces"
   ]
  },
  {
   "cell_type": "code",
   "execution_count": 6,
   "id": "654ecbba",
   "metadata": {},
   "outputs": [],
   "source": [
    "M = SteenrodFPModule(A, [0], [[Sq(1)]])\n",
    "N = SteenrodFPModule(A, [7], [[Sq(1)]])\n",
    "C = SteenrodFPModule(A, [0], [[Sq(4)+Sq(2)*Sq(2)]])"
   ]
  },
  {
   "cell_type": "code",
   "execution_count": 7,
   "id": "acb8bdd8",
   "metadata": {},
   "outputs": [],
   "source": [
    "# Create the homspace of maps between homspaces.\n",
    "\n",
    "# homhom is a Sage object representing homomorphisms from one\n",
    "# set of homset of FP-modules to another:\n",
    "\n",
    "homhom = FPHomspaceMorphismHomspace( Hom(M,C), Hom(N, C) )\n",
    "\n",
    "# Note: we can't use the usual `Hom` function here, since the \n",
    "# `extras` package hasn't been compiled into Sage."
   ]
  },
  {
   "cell_type": "code",
   "execution_count": 8,
   "id": "8dc9136f",
   "metadata": {},
   "outputs": [
    {
     "data": {
      "text/plain": [
       "Module morphism:\n",
       "  From: Finitely presented left module on 1 generator and 1 relation over mod 2 Steenrod algebra, milnor basis\n",
       "  To:   Finitely presented left module on 1 generator and 1 relation over mod 2 Steenrod algebra, milnor basis\n",
       "  Defn: g[7] |--> Sq(0,0,1)*g[0]"
      ]
     },
     "execution_count": 8,
     "metadata": {},
     "output_type": "execute_result"
    }
   ],
   "source": [
    "# Choose a map from N to M\n",
    "f = Hom(N, M).an_element()\n",
    "f"
   ]
  },
  {
   "cell_type": "code",
   "execution_count": 9,
   "id": "b9a56ce3",
   "metadata": {},
   "outputs": [],
   "source": [
    "# At the moment, the only way to create a map of homspaces is \n",
    "# by composition.\n",
    "\n",
    "# phi is the map Hom(N, C) --> Hom(M, C) given by \n",
    "# precomposition by `f`\n",
    "phi = homhom.precompose(f)"
   ]
  },
  {
   "cell_type": "code",
   "execution_count": 10,
   "id": "2a94b7a4",
   "metadata": {},
   "outputs": [
    {
     "data": {
      "text/plain": [
       "Vector space morphism represented by the matrix:\n",
       "[1 0 0 0 0]\n",
       "[0 1 0 0 0]\n",
       "[1 0 0 0 0]\n",
       "[0 0 0 0 0]\n",
       "[1 1 0 0 0]\n",
       "Domain: Vector space of dimension 5 over Finite Field of size 2\n",
       "Codomain: Vector space of dimension 5 over Finite Field of size 2"
      ]
     },
     "execution_count": 10,
     "metadata": {},
     "output_type": "execute_result"
    }
   ],
   "source": [
    "# The map phi of homspaces is a linear transformation of\n",
    "# vectorspaces\n",
    "phi.vector_presentation(n=18)"
   ]
  },
  {
   "cell_type": "code",
   "execution_count": 11,
   "id": "2d6bb642",
   "metadata": {},
   "outputs": [
    {
     "data": {
      "text/plain": [
       "True"
      ]
     },
     "execution_count": 11,
     "metadata": {},
     "output_type": "execute_result"
    }
   ],
   "source": [
    "phi.domain() is Hom(M,C)"
   ]
  },
  {
   "cell_type": "code",
   "execution_count": 12,
   "id": "d14d7a58",
   "metadata": {},
   "outputs": [
    {
     "data": {
      "text/plain": [
       "True"
      ]
     },
     "execution_count": 12,
     "metadata": {},
     "output_type": "execute_result"
    }
   ],
   "source": [
    "phi.codomain() is Hom(N,C)"
   ]
  },
  {
   "cell_type": "code",
   "execution_count": 13,
   "id": "a199de9a",
   "metadata": {},
   "outputs": [],
   "source": [
    "# There is a utility function that provides a shortcut for the above:\n",
    "phi_ = f.homspace_map_by_precomposition(C)"
   ]
  },
  {
   "cell_type": "markdown",
   "id": "89310d58",
   "metadata": {},
   "source": [
    "## Cohomology\n",
    "The motivation for treating homspaces as graded vector spaces is to be abe to compute cohomology.\n",
    "\n",
    "Given a chain complex\n",
    "$$\n",
    "    R \\xrightarrow{f} S \\xrightarrow{g} T\\,.\n",
    "$$\n",
    "Then for a module $N$, we would like to compute the cohomology of\n",
    "$$\n",
    "    \\hom(T, N) \\xrightarrow{g^*} \\hom(S, N) \\xrightarrow{f^*} \\hom(R, N)\\,.\n",
    "$$\n",
    "\n",
    "This is accomplished by the new function ``cohomology``."
   ]
  },
  {
   "cell_type": "code",
   "execution_count": 14,
   "id": "e3572754",
   "metadata": {},
   "outputs": [],
   "source": [
    "# Start by computing a resolution of a module.  We do this \n",
    "# in this example just to get a pair of composable maps.\n",
    "A1 = SteenrodAlgebra(2, profile=(2,1))\n",
    "\n",
    "# Create the coefficients module\n",
    "F2_A1 = SteenrodFPModule(A1, [0], [[Sq(1)], [Sq(2)]])\n",
    "\n",
    "res = F2_A1.resolution(4, verbose=False)"
   ]
  },
  {
   "cell_type": "code",
   "execution_count": 15,
   "id": "c3291450",
   "metadata": {},
   "outputs": [],
   "source": [
    "# The resolution provides composable maps which we will use to compute cohomology.\n",
    "f = res[2]\n",
    "g = res[1]"
   ]
  },
  {
   "cell_type": "code",
   "execution_count": 16,
   "id": "ea9663dc",
   "metadata": {
    "scrolled": false
   },
   "outputs": [
    {
     "name": "stdout",
     "output_type": "stream",
     "text": [
      "Chomology rank:  1\n",
      "Kernel basis:  [Module morphism:\n",
      "  From: Free graded left module on 2 generators over sub-Hopf algebra of mod 2 Steenrod algebra, milnor basis, profile function [2, 1]\n",
      "  To:   Finitely presented left module on 1 generator and 2 relations over sub-Hopf algebra of mod 2 Steenrod algebra, milnor basis, profile function [2, 1]\n",
      "  Defn: g[1] |--> g[0]\n",
      "        g[2] |--> 0]\n"
     ]
    }
   ],
   "source": [
    "# The ``cohomology`` function returns the degree ``t`` part of the graded vectorspace\n",
    "# which is the ker(f^*)/im(g^*):\n",
    "V, b = cohomology(f, g, F2_A1, t=1)\n",
    "print('Chomology rank: ', V.dimension())\n",
    "print('Kernel basis: ', b)"
   ]
  },
  {
   "cell_type": "markdown",
   "id": "bafc6c67",
   "metadata": {},
   "source": [
    "## Ext-groups\n",
    "\n",
    "Using the function ``cohomology`` to compute Ext-groups is a little cumbersome.  The new function ``ext`` has a slightly easier interface."
   ]
  },
  {
   "cell_type": "code",
   "execution_count": 17,
   "id": "450d03cf",
   "metadata": {},
   "outputs": [
    {
     "data": {
      "text/plain": [
       "1"
      ]
     },
     "execution_count": 17,
     "metadata": {},
     "output_type": "execute_result"
    }
   ],
   "source": [
    "# Computes the F_p-rank of the group Ext^(s,t) (M, N)\n",
    "\n",
    "# The first parameter is a resolution of M:\n",
    "ext(res, N=F2_A1, s=1, t=1)"
   ]
  },
  {
   "cell_type": "code",
   "execution_count": null,
   "id": "baecc75b",
   "metadata": {},
   "outputs": [],
   "source": []
  }
 ],
 "metadata": {
  "kernelspec": {
   "display_name": "SageMath 9.6",
   "language": "sage",
   "name": "sagemath"
  },
  "language_info": {
   "codemirror_mode": {
    "name": "ipython",
    "version": 3
   },
   "file_extension": ".py",
   "mimetype": "text/x-python",
   "name": "python",
   "nbconvert_exporter": "python",
   "pygments_lexer": "ipython3",
   "version": "3.10.4"
  }
 },
 "nbformat": 4,
 "nbformat_minor": 5
}
